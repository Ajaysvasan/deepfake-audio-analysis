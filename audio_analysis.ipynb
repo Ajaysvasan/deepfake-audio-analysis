{
  "nbformat": 4,
  "nbformat_minor": 0,
  "metadata": {
    "colab": {
      "provenance": [],
      "gpuType": "T4"
    },
    "kernelspec": {
      "name": "python3",
      "display_name": "Python 3"
    },
    "language_info": {
      "name": "python"
    },
    "accelerator": "GPU"
  },
  "cells": [
    {
      "cell_type": "code",
      "execution_count": 1,
      "metadata": {
        "colab": {
          "base_uri": "https://localhost:8080/",
          "height": 90
        },
        "id": "0PwhWZ1Xy6TO",
        "outputId": "bee82df3-323f-4aff-9981-5c9db071eb3f"
      },
      "outputs": [
        {
          "output_type": "display_data",
          "data": {
            "text/plain": [
              "<IPython.core.display.HTML object>"
            ],
            "text/html": [
              "\n",
              "     <input type=\"file\" id=\"files-97a026ce-0d3f-4ac3-910d-ff4b4f3bf718\" name=\"files[]\" multiple disabled\n",
              "        style=\"border:none\" />\n",
              "     <output id=\"result-97a026ce-0d3f-4ac3-910d-ff4b4f3bf718\">\n",
              "      Upload widget is only available when the cell has been executed in the\n",
              "      current browser session. Please rerun this cell to enable.\n",
              "      </output>\n",
              "      <script>// Copyright 2017 Google LLC\n",
              "//\n",
              "// Licensed under the Apache License, Version 2.0 (the \"License\");\n",
              "// you may not use this file except in compliance with the License.\n",
              "// You may obtain a copy of the License at\n",
              "//\n",
              "//      http://www.apache.org/licenses/LICENSE-2.0\n",
              "//\n",
              "// Unless required by applicable law or agreed to in writing, software\n",
              "// distributed under the License is distributed on an \"AS IS\" BASIS,\n",
              "// WITHOUT WARRANTIES OR CONDITIONS OF ANY KIND, either express or implied.\n",
              "// See the License for the specific language governing permissions and\n",
              "// limitations under the License.\n",
              "\n",
              "/**\n",
              " * @fileoverview Helpers for google.colab Python module.\n",
              " */\n",
              "(function(scope) {\n",
              "function span(text, styleAttributes = {}) {\n",
              "  const element = document.createElement('span');\n",
              "  element.textContent = text;\n",
              "  for (const key of Object.keys(styleAttributes)) {\n",
              "    element.style[key] = styleAttributes[key];\n",
              "  }\n",
              "  return element;\n",
              "}\n",
              "\n",
              "// Max number of bytes which will be uploaded at a time.\n",
              "const MAX_PAYLOAD_SIZE = 100 * 1024;\n",
              "\n",
              "function _uploadFiles(inputId, outputId) {\n",
              "  const steps = uploadFilesStep(inputId, outputId);\n",
              "  const outputElement = document.getElementById(outputId);\n",
              "  // Cache steps on the outputElement to make it available for the next call\n",
              "  // to uploadFilesContinue from Python.\n",
              "  outputElement.steps = steps;\n",
              "\n",
              "  return _uploadFilesContinue(outputId);\n",
              "}\n",
              "\n",
              "// This is roughly an async generator (not supported in the browser yet),\n",
              "// where there are multiple asynchronous steps and the Python side is going\n",
              "// to poll for completion of each step.\n",
              "// This uses a Promise to block the python side on completion of each step,\n",
              "// then passes the result of the previous step as the input to the next step.\n",
              "function _uploadFilesContinue(outputId) {\n",
              "  const outputElement = document.getElementById(outputId);\n",
              "  const steps = outputElement.steps;\n",
              "\n",
              "  const next = steps.next(outputElement.lastPromiseValue);\n",
              "  return Promise.resolve(next.value.promise).then((value) => {\n",
              "    // Cache the last promise value to make it available to the next\n",
              "    // step of the generator.\n",
              "    outputElement.lastPromiseValue = value;\n",
              "    return next.value.response;\n",
              "  });\n",
              "}\n",
              "\n",
              "/**\n",
              " * Generator function which is called between each async step of the upload\n",
              " * process.\n",
              " * @param {string} inputId Element ID of the input file picker element.\n",
              " * @param {string} outputId Element ID of the output display.\n",
              " * @return {!Iterable<!Object>} Iterable of next steps.\n",
              " */\n",
              "function* uploadFilesStep(inputId, outputId) {\n",
              "  const inputElement = document.getElementById(inputId);\n",
              "  inputElement.disabled = false;\n",
              "\n",
              "  const outputElement = document.getElementById(outputId);\n",
              "  outputElement.innerHTML = '';\n",
              "\n",
              "  const pickedPromise = new Promise((resolve) => {\n",
              "    inputElement.addEventListener('change', (e) => {\n",
              "      resolve(e.target.files);\n",
              "    });\n",
              "  });\n",
              "\n",
              "  const cancel = document.createElement('button');\n",
              "  inputElement.parentElement.appendChild(cancel);\n",
              "  cancel.textContent = 'Cancel upload';\n",
              "  const cancelPromise = new Promise((resolve) => {\n",
              "    cancel.onclick = () => {\n",
              "      resolve(null);\n",
              "    };\n",
              "  });\n",
              "\n",
              "  // Wait for the user to pick the files.\n",
              "  const files = yield {\n",
              "    promise: Promise.race([pickedPromise, cancelPromise]),\n",
              "    response: {\n",
              "      action: 'starting',\n",
              "    }\n",
              "  };\n",
              "\n",
              "  cancel.remove();\n",
              "\n",
              "  // Disable the input element since further picks are not allowed.\n",
              "  inputElement.disabled = true;\n",
              "\n",
              "  if (!files) {\n",
              "    return {\n",
              "      response: {\n",
              "        action: 'complete',\n",
              "      }\n",
              "    };\n",
              "  }\n",
              "\n",
              "  for (const file of files) {\n",
              "    const li = document.createElement('li');\n",
              "    li.append(span(file.name, {fontWeight: 'bold'}));\n",
              "    li.append(span(\n",
              "        `(${file.type || 'n/a'}) - ${file.size} bytes, ` +\n",
              "        `last modified: ${\n",
              "            file.lastModifiedDate ? file.lastModifiedDate.toLocaleDateString() :\n",
              "                                    'n/a'} - `));\n",
              "    const percent = span('0% done');\n",
              "    li.appendChild(percent);\n",
              "\n",
              "    outputElement.appendChild(li);\n",
              "\n",
              "    const fileDataPromise = new Promise((resolve) => {\n",
              "      const reader = new FileReader();\n",
              "      reader.onload = (e) => {\n",
              "        resolve(e.target.result);\n",
              "      };\n",
              "      reader.readAsArrayBuffer(file);\n",
              "    });\n",
              "    // Wait for the data to be ready.\n",
              "    let fileData = yield {\n",
              "      promise: fileDataPromise,\n",
              "      response: {\n",
              "        action: 'continue',\n",
              "      }\n",
              "    };\n",
              "\n",
              "    // Use a chunked sending to avoid message size limits. See b/62115660.\n",
              "    let position = 0;\n",
              "    do {\n",
              "      const length = Math.min(fileData.byteLength - position, MAX_PAYLOAD_SIZE);\n",
              "      const chunk = new Uint8Array(fileData, position, length);\n",
              "      position += length;\n",
              "\n",
              "      const base64 = btoa(String.fromCharCode.apply(null, chunk));\n",
              "      yield {\n",
              "        response: {\n",
              "          action: 'append',\n",
              "          file: file.name,\n",
              "          data: base64,\n",
              "        },\n",
              "      };\n",
              "\n",
              "      let percentDone = fileData.byteLength === 0 ?\n",
              "          100 :\n",
              "          Math.round((position / fileData.byteLength) * 100);\n",
              "      percent.textContent = `${percentDone}% done`;\n",
              "\n",
              "    } while (position < fileData.byteLength);\n",
              "  }\n",
              "\n",
              "  // All done.\n",
              "  yield {\n",
              "    response: {\n",
              "      action: 'complete',\n",
              "    }\n",
              "  };\n",
              "}\n",
              "\n",
              "scope.google = scope.google || {};\n",
              "scope.google.colab = scope.google.colab || {};\n",
              "scope.google.colab._files = {\n",
              "  _uploadFiles,\n",
              "  _uploadFilesContinue,\n",
              "};\n",
              "})(self);\n",
              "</script> "
            ]
          },
          "metadata": {}
        },
        {
          "output_type": "stream",
          "name": "stdout",
          "text": [
            "Saving kaggle.json to kaggle.json\n"
          ]
        },
        {
          "output_type": "execute_result",
          "data": {
            "text/plain": [
              "{'kaggle.json': b'{\"username\":\"shadowmonarchsunjin\",\"key\":\"42bc0f9d1cc262c501d04c8a6d0550fc\"}'}"
            ]
          },
          "metadata": {},
          "execution_count": 1
        }
      ],
      "source": [
        "from google.colab import files\n",
        "files.upload()  # This will prompt you to upload the kaggle.json file\n"
      ]
    },
    {
      "cell_type": "code",
      "source": [
        "!mkdir -p ~/.kaggle\n",
        "!cp kaggle.json ~/.kaggle/\n",
        "!chmod 600 ~/.kaggle/kaggle.json"
      ],
      "metadata": {
        "id": "BnHeDHCjzEn2"
      },
      "execution_count": 2,
      "outputs": []
    },
    {
      "cell_type": "code",
      "source": [
        "!kaggle datasets download -d birdy654/deep-voice-deepfake-voice-recognition"
      ],
      "metadata": {
        "colab": {
          "base_uri": "https://localhost:8080/"
        },
        "id": "2QfxJwAxzGk0",
        "outputId": "f5f4f81c-b0ac-47e5-cba1-5f601baa1d60"
      },
      "execution_count": 3,
      "outputs": [
        {
          "output_type": "stream",
          "name": "stdout",
          "text": [
            "Dataset URL: https://www.kaggle.com/datasets/birdy654/deep-voice-deepfake-voice-recognition\n",
            "License(s): other\n",
            "Downloading deep-voice-deepfake-voice-recognition.zip to /content\n",
            "100% 3.67G/3.69G [00:46<00:00, 162MB/s]\n",
            "100% 3.69G/3.69G [00:46<00:00, 85.1MB/s]\n"
          ]
        }
      ]
    },
    {
      "cell_type": "code",
      "source": [
        "!unzip deep-voice-deepfake-voice-recognition"
      ],
      "metadata": {
        "colab": {
          "base_uri": "https://localhost:8080/"
        },
        "id": "ZSbzOa8n0Xh2",
        "outputId": "d46b3494-6301-4264-e780-614d286198cb"
      },
      "execution_count": 4,
      "outputs": [
        {
          "output_type": "stream",
          "name": "stdout",
          "text": [
            "Archive:  deep-voice-deepfake-voice-recognition.zip\n",
            "  inflating: DEMONSTRATION/DEMONSTRATION/linus-original-DEMO.mp3  \n",
            "  inflating: DEMONSTRATION/DEMONSTRATION/linus-to-musk-DEMO.mp3  \n",
            "  inflating: KAGGLE/AUDIO/FAKE/Obama-to-Biden.wav  \n",
            "  inflating: KAGGLE/AUDIO/FAKE/Obama-to-Trump.wav  \n",
            "  inflating: KAGGLE/AUDIO/FAKE/biden-to-Obama.wav  \n",
            "  inflating: KAGGLE/AUDIO/FAKE/biden-to-Trump.wav  \n",
            "  inflating: KAGGLE/AUDIO/FAKE/biden-to-linus.wav  \n",
            "  inflating: KAGGLE/AUDIO/FAKE/biden-to-margot.wav  \n",
            "  inflating: KAGGLE/AUDIO/FAKE/biden-to-musk.wav  \n",
            "  inflating: KAGGLE/AUDIO/FAKE/biden-to-ryan.wav  \n",
            "  inflating: KAGGLE/AUDIO/FAKE/biden-to-taylor.wav  \n",
            "  inflating: KAGGLE/AUDIO/FAKE/linus-to-biden.wav  \n",
            "  inflating: KAGGLE/AUDIO/FAKE/linus-to-margot.wav  \n",
            "  inflating: KAGGLE/AUDIO/FAKE/linus-to-musk.wav  \n",
            "  inflating: KAGGLE/AUDIO/FAKE/linus-to-obama.wav  \n",
            "  inflating: KAGGLE/AUDIO/FAKE/linus-to-ryan.wav  \n",
            "  inflating: KAGGLE/AUDIO/FAKE/linus-to-taylor.wav  \n",
            "  inflating: KAGGLE/AUDIO/FAKE/linus-to-trump.wav  \n",
            "  inflating: KAGGLE/AUDIO/FAKE/margot-to-biden.wav  \n",
            "  inflating: KAGGLE/AUDIO/FAKE/margot-to-linus.wav  \n",
            "  inflating: KAGGLE/AUDIO/FAKE/margot-to-musk.wav  \n",
            "  inflating: KAGGLE/AUDIO/FAKE/margot-to-obama.wav  \n",
            "  inflating: KAGGLE/AUDIO/FAKE/margot-to-ryan.wav  \n",
            "  inflating: KAGGLE/AUDIO/FAKE/margot-to-taylor.wav  \n",
            "  inflating: KAGGLE/AUDIO/FAKE/margot-to-trump.wav  \n",
            "  inflating: KAGGLE/AUDIO/FAKE/musk-to-biden.wav  \n",
            "  inflating: KAGGLE/AUDIO/FAKE/musk-to-linus.wav  \n",
            "  inflating: KAGGLE/AUDIO/FAKE/musk-to-margot.wav  \n",
            "  inflating: KAGGLE/AUDIO/FAKE/musk-to-obama.wav  \n",
            "  inflating: KAGGLE/AUDIO/FAKE/musk-to-ryan.wav  \n",
            "  inflating: KAGGLE/AUDIO/FAKE/musk-to-taylor.wav  \n",
            "  inflating: KAGGLE/AUDIO/FAKE/musk-to-trump.wav  \n",
            "  inflating: KAGGLE/AUDIO/FAKE/obama-to-linus.wav  \n",
            "  inflating: KAGGLE/AUDIO/FAKE/obama-to-margot.wav  \n",
            "  inflating: KAGGLE/AUDIO/FAKE/obama-to-musk.wav  \n",
            "  inflating: KAGGLE/AUDIO/FAKE/obama-to-ryan.wav  \n",
            "  inflating: KAGGLE/AUDIO/FAKE/obama-to-taylor.wav  \n",
            "  inflating: KAGGLE/AUDIO/FAKE/ryan-to-biden.wav  \n",
            "  inflating: KAGGLE/AUDIO/FAKE/ryan-to-linus.wav  \n",
            "  inflating: KAGGLE/AUDIO/FAKE/ryan-to-margot.wav  \n",
            "  inflating: KAGGLE/AUDIO/FAKE/ryan-to-musk.wav  \n",
            "  inflating: KAGGLE/AUDIO/FAKE/ryan-to-obama.wav  \n",
            "  inflating: KAGGLE/AUDIO/FAKE/ryan-to-taylor.wav  \n",
            "  inflating: KAGGLE/AUDIO/FAKE/ryan-to-trump.wav  \n",
            "  inflating: KAGGLE/AUDIO/FAKE/taylor-to-biden.wav  \n",
            "  inflating: KAGGLE/AUDIO/FAKE/taylor-to-linus.wav  \n",
            "  inflating: KAGGLE/AUDIO/FAKE/taylor-to-margot.wav  \n",
            "  inflating: KAGGLE/AUDIO/FAKE/taylor-to-musk.wav  \n",
            "  inflating: KAGGLE/AUDIO/FAKE/taylor-to-obama.wav  \n",
            "  inflating: KAGGLE/AUDIO/FAKE/taylor-to-ryan.wav  \n",
            "  inflating: KAGGLE/AUDIO/FAKE/taylor-to-trump.wav  \n",
            "  inflating: KAGGLE/AUDIO/FAKE/trump-to-Biden.wav  \n",
            "  inflating: KAGGLE/AUDIO/FAKE/trump-to-Obama.wav  \n",
            "  inflating: KAGGLE/AUDIO/FAKE/trump-to-linus.wav  \n",
            "  inflating: KAGGLE/AUDIO/FAKE/trump-to-margot.wav  \n",
            "  inflating: KAGGLE/AUDIO/FAKE/trump-to-musk.wav  \n",
            "  inflating: KAGGLE/AUDIO/FAKE/trump-to-ryan.wav  \n",
            "  inflating: KAGGLE/AUDIO/FAKE/trump-to-taylor.wav  \n",
            "  inflating: KAGGLE/AUDIO/REAL/biden-original.wav  \n",
            "  inflating: KAGGLE/AUDIO/REAL/linus-original.wav  \n",
            "  inflating: KAGGLE/AUDIO/REAL/margot-original.wav  \n",
            "  inflating: KAGGLE/AUDIO/REAL/musk-original.wav  \n",
            "  inflating: KAGGLE/AUDIO/REAL/obama-original.wav  \n",
            "  inflating: KAGGLE/AUDIO/REAL/ryan-original.wav  \n",
            "  inflating: KAGGLE/AUDIO/REAL/taylor-original.wav  \n",
            "  inflating: KAGGLE/AUDIO/REAL/trump-original.wav  \n",
            "  inflating: KAGGLE/DATASET-balanced.csv  \n"
          ]
        }
      ]
    },
    {
      "cell_type": "code",
      "source": [
        "import librosa\n",
        "import numpy as np\n",
        "import matplotlib.pyplot as plt\n",
        "\n",
        "def load_audio(file_path, sr=22050):\n",
        "    audio, sr = librosa.load(file_path, sr=sr)\n",
        "    return audio, sr\n",
        "def audio_to_spectrogram(audio, sr):\n",
        "    spectrogram = librosa.feature.melspectrogram(y=audio, sr=sr, n_mels=128)\n",
        "    spectrogram_db = librosa.power_to_db(spectrogram, ref=np.max)\n",
        "    return spectrogram_db\n",
        "def plot_spectrogram(spectrogram):\n",
        "    plt.figure(figsize=(10, 4))\n",
        "    librosa.display.specshow(spectrogram, sr=sr, x_axis='time', y_axis='mel')\n",
        "    plt.colorbar(format='%+2.0f dB')\n",
        "    plt.title('Mel-frequency spectrogram')\n",
        "    plt.tight_layout()\n",
        "    plt.show()\n",
        "import tensorflow as tf\n",
        "from tensorflow.keras import layers, models\n",
        "\n",
        "def create_cnn_model(input_shape):\n",
        "    model = models.Sequential()\n",
        "\n",
        "    model.add(layers.Conv2D(32, (3, 3), activation='relu', input_shape=input_shape))\n",
        "    model.add(layers.MaxPooling2D((2, 2)))\n",
        "\n",
        "    model.add(layers.Conv2D(64, (3, 3), activation='relu'))\n",
        "    model.add(layers.MaxPooling2D((2, 2)))\n",
        "\n",
        "    model.add(layers.Conv2D(128, (3, 3), activation='relu'))\n",
        "    model.add(layers.MaxPooling2D((2, 2)))\n",
        "\n",
        "    model.add(layers.Flatten())\n",
        "    model.add(layers.Dense(128, activation='relu'))\n",
        "    model.add(layers.Dropout(0.5))\n",
        "\n",
        "    model.add(layers.Dense(1, activation='sigmoid'))  # Binary classification\n",
        "\n",
        "    model.compile(optimizer='adam', loss='binary_crossentropy', metrics=['accuracy'])\n",
        "\n",
        "    return model\n"
      ],
      "metadata": {
        "id": "HJzx_fYz1MZR"
      },
      "execution_count": 5,
      "outputs": []
    },
    {
      "cell_type": "code",
      "source": [
        "import os\n",
        "import librosa\n",
        "import numpy as np\n",
        "\n",
        "# Set the paths\n",
        "data_dir = 'KAGGLE/AUDIO/'\n",
        "classes = ['REAL', 'FAKE']\n",
        "\n",
        "# Initialize lists for storing data and labels\n",
        "X = []\n",
        "y = []\n",
        "\n",
        "# Loop through each class\n",
        "for class_label, class_name in enumerate(classes):\n",
        "    class_dir = os.path.join(data_dir, class_name)\n",
        "\n",
        "    for filename in os.listdir(class_dir):\n",
        "        if filename.endswith('.wav'):\n",
        "            file_path = os.path.join(class_dir, filename)\n",
        "            audio, sr = librosa.load(file_path, sr=22050)\n",
        "            spectrogram = librosa.feature.melspectrogram(y=audio, sr=sr, n_mels=128)\n",
        "            spectrogram = librosa.power_to_db(spectrogram, ref=np.max)\n",
        "\n",
        "            # Pad or truncate spectrograms to a fixed length\n",
        "            max_length = 100 # Replace with your desired fixed length\n",
        "            if spectrogram.shape[1] < max_length:\n",
        "                spectrogram = np.pad(spectrogram, ((0, 0), (0, max_length - spectrogram.shape[1])), mode='constant')\n",
        "            else:\n",
        "                spectrogram = spectrogram[:, :max_length]\n",
        "\n",
        "            # Store the data and label\n",
        "            X.append(spectrogram)\n",
        "            y.append(class_label)\n",
        "\n",
        "# Convert lists to numpy arrays\n",
        "y = np.array(y)\n",
        "X = np.array(X) # Now X should have a consistent shape"
      ],
      "metadata": {
        "id": "IcGQLv5KNBkP"
      },
      "execution_count": 15,
      "outputs": []
    },
    {
      "cell_type": "code",
      "source": [
        "from sklearn.model_selection import train_test_split\n",
        "\n",
        "\n",
        "# Assuming you have prepared your data and labels\n",
        "\n",
        "\n",
        "xtrain,xtest,ytrain,ytest = train_test_split(X,y,test_size= 0.2) # Labels (0 for real, 1 for deepfake)\n",
        "\n",
        "# The input shape for a CNN should be (height, width, channels)\n",
        "# In this case, the spectrogram is 2D (frequency bins x time frames), so we add a channel dimension of 1\n",
        "input_shape = (xtrain.shape[1], xtrain.shape[2], 1)\n",
        "\n",
        "model = create_cnn_model(input_shape)\n",
        "model.fit(xtrain, ytrain, epochs=10, batch_size=32, validation_split=0.2)"
      ],
      "metadata": {
        "colab": {
          "base_uri": "https://localhost:8080/"
        },
        "id": "4srJR64INqVC",
        "outputId": "9df277b1-ab82-431e-f8ce-edfadd42956c"
      },
      "execution_count": 17,
      "outputs": [
        {
          "output_type": "stream",
          "name": "stderr",
          "text": [
            "/usr/local/lib/python3.10/dist-packages/keras/src/layers/convolutional/base_conv.py:107: UserWarning: Do not pass an `input_shape`/`input_dim` argument to a layer. When using Sequential models, prefer using an `Input(shape)` object as the first layer in the model instead.\n",
            "  super().__init__(activity_regularizer=activity_regularizer, **kwargs)\n"
          ]
        },
        {
          "output_type": "stream",
          "name": "stdout",
          "text": [
            "Epoch 1/10\n",
            "\u001b[1m2/2\u001b[0m \u001b[32m━━━━━━━━━━━━━━━━━━━━\u001b[0m\u001b[37m\u001b[0m \u001b[1m12s\u001b[0m 4s/step - accuracy: 0.2021 - loss: 15.1207 - val_accuracy: 1.0000 - val_loss: 1.0606e-33\n",
            "Epoch 2/10\n",
            "\u001b[1m2/2\u001b[0m \u001b[32m━━━━━━━━━━━━━━━━━━━━\u001b[0m\u001b[37m\u001b[0m \u001b[1m0s\u001b[0m 30ms/step - accuracy: 0.8583 - loss: 6.1200 - val_accuracy: 1.0000 - val_loss: 1.0055e-07\n",
            "Epoch 3/10\n",
            "\u001b[1m2/2\u001b[0m \u001b[32m━━━━━━━━━━━━━━━━━━━━\u001b[0m\u001b[37m\u001b[0m \u001b[1m0s\u001b[0m 28ms/step - accuracy: 0.8417 - loss: 2.2619 - val_accuracy: 0.0000e+00 - val_loss: 6.4397\n",
            "Epoch 4/10\n",
            "\u001b[1m2/2\u001b[0m \u001b[32m━━━━━━━━━━━━━━━━━━━━\u001b[0m\u001b[37m\u001b[0m \u001b[1m0s\u001b[0m 31ms/step - accuracy: 0.1750 - loss: 5.0524 - val_accuracy: 0.9091 - val_loss: 0.6256\n",
            "Epoch 5/10\n",
            "\u001b[1m2/2\u001b[0m \u001b[32m━━━━━━━━━━━━━━━━━━━━\u001b[0m\u001b[37m\u001b[0m \u001b[1m0s\u001b[0m 28ms/step - accuracy: 0.5229 - loss: 1.4625 - val_accuracy: 1.0000 - val_loss: 0.0052\n",
            "Epoch 6/10\n",
            "\u001b[1m2/2\u001b[0m \u001b[32m━━━━━━━━━━━━━━━━━━━━\u001b[0m\u001b[37m\u001b[0m \u001b[1m0s\u001b[0m 29ms/step - accuracy: 0.8583 - loss: 0.8519 - val_accuracy: 1.0000 - val_loss: 0.0121\n",
            "Epoch 7/10\n",
            "\u001b[1m2/2\u001b[0m \u001b[32m━━━━━━━━━━━━━━━━━━━━\u001b[0m\u001b[37m\u001b[0m \u001b[1m0s\u001b[0m 28ms/step - accuracy: 0.8583 - loss: 0.5493 - val_accuracy: 1.0000 - val_loss: 0.1833\n",
            "Epoch 8/10\n",
            "\u001b[1m2/2\u001b[0m \u001b[32m━━━━━━━━━━━━━━━━━━━━\u001b[0m\u001b[37m\u001b[0m \u001b[1m0s\u001b[0m 30ms/step - accuracy: 0.8375 - loss: 0.4696 - val_accuracy: 1.0000 - val_loss: 0.4200\n",
            "Epoch 9/10\n",
            "\u001b[1m2/2\u001b[0m \u001b[32m━━━━━━━━━━━━━━━━━━━━\u001b[0m\u001b[37m\u001b[0m \u001b[1m0s\u001b[0m 38ms/step - accuracy: 0.8042 - loss: 0.5208 - val_accuracy: 1.0000 - val_loss: 0.2600\n",
            "Epoch 10/10\n",
            "\u001b[1m2/2\u001b[0m \u001b[32m━━━━━━━━━━━━━━━━━━━━\u001b[0m\u001b[37m\u001b[0m \u001b[1m0s\u001b[0m 29ms/step - accuracy: 0.8375 - loss: 0.4394 - val_accuracy: 1.0000 - val_loss: 0.1189\n"
          ]
        },
        {
          "output_type": "execute_result",
          "data": {
            "text/plain": [
              "<keras.src.callbacks.history.History at 0x798acf333c40>"
            ]
          },
          "metadata": {},
          "execution_count": 17
        }
      ]
    },
    {
      "cell_type": "code",
      "source": [
        "loss,accuracy = model.evaluate(xtest,ytest)"
      ],
      "metadata": {
        "colab": {
          "base_uri": "https://localhost:8080/"
        },
        "id": "rtoN31gtN2vJ",
        "outputId": "83831a68-92ce-4830-8885-965c4011b4eb"
      },
      "execution_count": 18,
      "outputs": [
        {
          "output_type": "stream",
          "name": "stdout",
          "text": [
            "\u001b[1m1/1\u001b[0m \u001b[32m━━━━━━━━━━━━━━━━━━━━\u001b[0m\u001b[37m\u001b[0m \u001b[1m1s\u001b[0m 628ms/step - accuracy: 0.8462 - loss: 0.3837\n"
          ]
        }
      ]
    },
    {
      "cell_type": "code",
      "source": [
        "print(accuracy)"
      ],
      "metadata": {
        "colab": {
          "base_uri": "https://localhost:8080/"
        },
        "id": "J4yw6Av0OCYF",
        "outputId": "9524afba-c0fb-4c83-d5fd-02a118452f57"
      },
      "execution_count": 19,
      "outputs": [
        {
          "output_type": "stream",
          "name": "stdout",
          "text": [
            "0.8461538553237915\n"
          ]
        }
      ]
    },
    {
      "cell_type": "code",
      "source": [
        "model.save('audio.h5')\n"
      ],
      "metadata": {
        "colab": {
          "base_uri": "https://localhost:8080/"
        },
        "id": "9TgrKayrQlSr",
        "outputId": "b96ff417-108b-40f6-cb27-bbe181b55082"
      },
      "execution_count": 31,
      "outputs": [
        {
          "output_type": "stream",
          "name": "stderr",
          "text": [
            "WARNING:absl:You are saving your model as an HDF5 file via `model.save()` or `keras.saving.save_model(model)`. This file format is considered legacy. We recommend using instead the native Keras format, e.g. `model.save('my_model.keras')` or `keras.saving.save_model(model, 'my_model.keras')`. \n"
          ]
        }
      ]
    }
  ]
}